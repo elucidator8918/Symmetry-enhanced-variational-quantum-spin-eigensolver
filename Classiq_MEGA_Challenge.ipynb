{
  "cells": [
    {
      "cell_type": "markdown",
      "metadata": {
        "id": "jSYOIjnb1xJU"
      },
      "source": [
        "# Variational Quantum Eigensolver (VQE) for the Heisenberg Model\n",
        "\n",
        "This notebook demonstrates the implementation of the Variational Quantum Eigensolver (VQE) using both **hardware-efficient** and **symmetry-preserving ansatz** for the Heisenberg model. The VQE is a hybrid quantum-classical algorithm that estimates the ground and excited states of a quantum system.\n",
        "\n",
        "We will explore different ansätze circuits, focusing on their resource efficiency and accuracy when computing low-energy eigenstates. This method incorporates symmetries in quantum systems to improve performance, as discussed in the paper.\n",
        "\n",
        "The VQE algorithm is a promising candidate for achieving quantum advantage in near-term quantum simulators."
      ]
    },
    {
      "cell_type": "code",
      "execution_count": 1,
      "metadata": {
        "colab": {
          "base_uri": "https://localhost:8080/"
        },
        "id": "uj3G7OcK5mq6",
        "outputId": "c0c19e08-2669-4e94-b774-9c9150d2124b"
      },
      "outputs": [],
      "source": [
        "!pip install classiq qiskit_qasm3_import pylatexenc -q"
      ]
    },
    {
      "cell_type": "code",
      "execution_count": 2,
      "metadata": {
        "colab": {
          "base_uri": "https://localhost:8080/"
        },
        "id": "2xRft1u11xkc",
        "outputId": "1cdff755-a082-430c-9de9-569e98dfc369"
      },
      "outputs": [
        {
          "name": "stderr",
          "output_type": "stream",
          "text": [
            "/home/siddhant/anaconda3/envs/qclass/lib/python3.10/site-packages/classiq/_internals/authentication/token_manager.py:101: UserWarning: Device is already registered.\n",
            "Generating a new refresh token should only be done if the current refresh token is compromised.\n",
            "To do so, set the overwrite parameter to true\n",
            "  warnings.warn(\n"
          ]
        }
      ],
      "source": [
        "import os\n",
        "import time\n",
        "import numpy as np\n",
        "from PIL import Image\n",
        "from scipy.linalg import eigh\n",
        "from qiskit_qasm3_import import parse\n",
        "from typing import List\n",
        "from enum import Enum\n",
        "from dataclasses import dataclass\n",
        "from classiq import *\n",
        "import classiq\n",
        "\n",
        "# Set random seed for reproducibility\n",
        "np.random.seed(0)\n",
        "classiq.authenticate()"
      ]
    },
    {
      "cell_type": "markdown",
      "metadata": {
        "id": "KTGkOyMt17kr"
      },
      "source": [
        "## Variational Quantum Eigensolver (VQE)\n",
        "\n",
        "The **Variational Quantum Eigensolver (VQE)** is a hybrid quantum-classical algorithm that aims to find the ground and excited states of a quantum system. It minimizes the expectation value of a given Hamiltonian 𝐇 using a quantum circuit to generate trial wavefunctions and a classical optimizer to adjust the parameters of the circuit.\n",
        "\n",
        "In this notebook, we will apply VQE to the **Heisenberg model** and explore both **hardware-efficient** and **symmetry-preserving** ansätze. These methods help reduce the computational overhead required to reach high fidelity results, especially for larger systems.\n"
      ]
    },
    {
      "cell_type": "code",
      "execution_count": 3,
      "metadata": {},
      "outputs": [],
      "source": [
        "CONFIG = {} # Later Initialized"
      ]
    },
    {
      "cell_type": "markdown",
      "metadata": {
        "id": "5Db4qbKx2BRs"
      },
      "source": [
        "## Ansatz Types\n",
        "\n",
        "The ansatz is a key component of VQE. It defines how we prepare the quantum state by applying quantum gates. We explore two types of ansätze:\n",
        "\n",
        "1. **Hardware-efficient Ansatz**: A simple structure that applies rotations and entangling gates but does not preserve any symmetry. It's efficient but prone to issues like Barren Plateaus.\n",
        "2. **Symmetry-preserving Ansatz**: A more complex structure designed to respect the system's physical symmetries, leading to improved performance in preserving energy states.\n",
        "\n",
        "We define an enum `AnsatzType` to distinguish between these two types in our implementation."
      ]
    },
    {
      "cell_type": "code",
      "execution_count": 4,
      "metadata": {
        "id": "Ad0bkraD2AOe"
      },
      "outputs": [],
      "source": [
        "class AnsatzType(Enum):\n",
        "    \"\"\"Types of supported ansatz circuits.\"\"\"\n",
        "    HARDWARE_EFFICIENT = 'fig-a'           # Hardware-efficient ansatz\n",
        "    SYMMETRY_PRESERVING_PHASE = 'fig-c'    # Symmetry-preserving ansatz with phase gates\n",
        "    SYMMETRY_PRESERVING = 'fig-d'          # Symmetry-preserving ansatz without phase gates"
      ]
    },
    {
      "cell_type": "markdown",
      "metadata": {
        "id": "LYMGnSeq2DG8"
      },
      "source": [
        "## Heisenberg Hamiltonian\n",
        "\n",
        "We simulate the Heisenberg model for a 1D chain of spin-½ particles using VQE. The Hamiltonian for this system is given by:\n",
        "\n",
        "$H = J \\sum_{i=1}^{N-1} \\vec{\\sigma}_i \\cdot \\vec{\\sigma}_{i+1}$\n",
        "\n",
        "Where:\n",
        "- $J$ is the coupling strength (set to 1 for simplicity),\n",
        "- $\\vec{\\sigma}_i = (\\sigma^x_i, \\sigma^y_i, \\sigma^z_i)$ are Pauli matrices acting on the $i$-th qubit.\n",
        "\n",
        "We will demonstrate how to construct this Hamiltonian using Python and employ VQE to minimize its energy."
      ]
    },
    {
      "cell_type": "code",
      "execution_count": 5,
      "metadata": {
        "id": "Bjnw1yIApaCO"
      },
      "outputs": [],
      "source": [
        "class PauliEnum(Enum):\n",
        "    I = 'I'\n",
        "    X = 'X'\n",
        "    Y = 'Y'\n",
        "    Z = 'Z'"
      ]
    },
    {
      "cell_type": "code",
      "execution_count": 6,
      "metadata": {
        "id": "N5HaqMGqlQAz"
      },
      "outputs": [],
      "source": [
        "@dataclass\n",
        "class HamiltonianTerm:\n",
        "    pauli: List[PauliEnum]\n",
        "    coefficient: float\n",
        "\n",
        "    def __repr__(self) -> str:\n",
        "        return f\"HamiltonianTerm(operators={self.pauli}, coupling_strength={self.coefficient})\"\n",
        "\n",
        "def generate_heisenberg_hamiltonian(N: int, J: float) -> QConstant:\n",
        "    pauli_list: List[HamiltonianTerm] = [\n",
        "        HamiltonianTerm(\n",
        "            pauli=[PauliEnum.I] * i + [PauliEnum(pauli.name)] * 2 + [PauliEnum.I] * (N - i - 2),\n",
        "            coefficient=J\n",
        "        )\n",
        "        for i in range(N - 1)\n",
        "        for pauli in [PauliEnum.X, PauliEnum.Y, PauliEnum.Z]\n",
        "    ]\n",
        "\n",
        "    return QConstant(\n",
        "        \"HAMILTONIAN\",\n",
        "        List[PauliTerm],\n",
        "        [\n",
        "            PauliTerm(\n",
        "                pauli=[getattr(Pauli, term.pauli[j].value) for j in range(len(term.pauli))],\n",
        "                coefficient=term.coefficient\n",
        "            )\n",
        "            for term in pauli_list\n",
        "        ]\n",
        "    )"
      ]
    },
    {
      "cell_type": "code",
      "execution_count": 7,
      "metadata": {},
      "outputs": [],
      "source": [
        "def classical_estimation(N, J):\n",
        "    \"\"\"\n",
        "    Calculate the ground state energy of a Heisenberg Hamiltonian using classical computation.\n",
        "    \n",
        "    Args:\n",
        "        N (int): Number of qubits\n",
        "        J (float): Coupling constant\n",
        "    \n",
        "    Returns:\n",
        "        float: Ground state energy\n",
        "    \"\"\"\n",
        "    pauli_string = HAMILTONIAN.CURRENT_QMODULE.constants['HAMILTONIAN'].value.expr\n",
        "    \n",
        "    # Clean up the string to extract individual terms\n",
        "    terms = pauli_string.strip('[]').split('), ')\n",
        "    terms = [term + ')' if not term.endswith(')') else term for term in terms]\n",
        "    \n",
        "    # Initialize Pauli matrices\n",
        "    pauli_matrices = {\n",
        "        'I': np.eye(2),\n",
        "        'X': np.array([[0, 1], [1, 0]]),\n",
        "        'Y': np.array([[0, -1j], [1j, 0]]),\n",
        "        'Z': np.array([[1, 0], [0, -1]])\n",
        "    }\n",
        "    \n",
        "    # Initialize Hamiltonian matrix\n",
        "    H = np.zeros((2**N, 2**N), dtype=complex)\n",
        "    \n",
        "    for term in terms:\n",
        "        # Extract Pauli operators and coefficient\n",
        "        pauli_part = term[term.find('['):term.find(']')]\n",
        "        pauli_operators = [op.split('.')[-1] for op in pauli_part.split(', ') if 'Pauli' in op]\n",
        "        \n",
        "        # Extract coefficient\n",
        "        coeff_start = term.find('coefficient=') + len('coefficient=')\n",
        "        coefficient = float(term[coeff_start:].rstrip(')'))\n",
        "        \n",
        "        # Construct term matrix\n",
        "        term_matrix = np.eye(1)\n",
        "        for op in pauli_operators:\n",
        "            term_matrix = np.kron(term_matrix, pauli_matrices[op])\n",
        "        \n",
        "        H += coefficient * term_matrix\n",
        "    \n",
        "    # Calculate ground state energy\n",
        "    eigenvalues = eigh(H, eigvals_only=True)\n",
        "    return eigenvalues[0]"
      ]
    },
    {
      "cell_type": "markdown",
      "metadata": {
        "id": "ph7C_1c420qV"
      },
      "source": [
        "## Ansatz Circuit Design\n",
        "\n",
        "We will now define the quantum circuits (ansätze) used to prepare the quantum states for VQE. There are two main ansätze that we will implement:\n",
        "1. **Hardware-Efficient Ansatz**:\n",
        "\n",
        "  - Rotational gates $R_Y$ and $R_Z$ are applied to each qubit followed by entangling gates (CNOTs).\n",
        "\n",
        "  - This ansatz is straightforward but often suffers from Barren Plateaus, where gradients vanish, making it hard to train deep circuits.\n",
        "\n",
        "2. **Symmetry-Preserving Ansatz**:\n",
        "\n",
        "  - Incorporates symmetries from the problem Hamiltonian, such as $S_z$-conservation or total spin $S_{tot}$, to reduce the complexity and the number of parameters required.\n",
        "\n",
        "  - Symmetry-preserving circuits conserve the number of excitations, which leads to faster convergence.\n",
        "    \n",
        "These ansätze are repeated over multiple layers to increase the expressibility of the quantum state."
      ]
    },
    {
      "cell_type": "code",
      "execution_count": 8,
      "metadata": {
        "id": "TjgmRoce22UG"
      },
      "outputs": [],
      "source": [
        "@qfunc\n",
        "def apply_hardware_efficient_ansatz(\n",
        "    qubits: QArray,\n",
        "    parameters: CArray[CReal]\n",
        ") -> None:\n",
        "    \"\"\"Apply hardware-efficient ansatz with rotations and entanglement.\"\"\"\n",
        "    num_qubits = CONFIG['NUM_QUBITS']\n",
        "    param_idx = 0\n",
        "\n",
        "    # RY rotations\n",
        "    for i in range(num_qubits):\n",
        "        RY(parameters[param_idx], qubits[i])\n",
        "        param_idx += 1\n",
        "\n",
        "    # RZ rotations\n",
        "    for i in range(num_qubits):\n",
        "        RZ(parameters[param_idx], qubits[i])\n",
        "        param_idx += 1\n",
        "\n",
        "    # Entangling layer\n",
        "    for i in range(num_qubits - 1):\n",
        "        hadamard_transform(qubits[i + 1])\n",
        "        CX(qubits[i], qubits[i + 1])\n",
        "        hadamard_transform(qubits[i + 1])"
      ]
    },
    {
      "cell_type": "markdown",
      "metadata": {
        "id": "6IevAgltjGtx"
      },
      "source": [
        "**Mathematical Justification:**\n",
        "\n",
        "For the symmetry-preserving ansatz, the following Pauli rotation is applied to ensure symmetry:\n",
        "\n",
        "$\n",
        "N(\\theta_x, \\theta_y, \\theta_z) = e^{i(\\theta_x \\sigma^x_1 \\sigma^x_2 + \\theta_y \\sigma^y_1 \\sigma^y_2 + \\theta_z \\sigma^z_1 \\sigma^z_2)}\n",
        "$\n",
        "\n",
        "This unitary preserves the number of excitations (i.e., $S_z$) and can be combined with other operators to ensure conservation of total spin $S_{tot}$."
      ]
    },
    {
      "cell_type": "code",
      "execution_count": 9,
      "metadata": {
        "id": "NyaWOZXk257i"
      },
      "outputs": [],
      "source": [
        "@qfunc\n",
        "def apply_n_block(\n",
        "    control: QBit,\n",
        "    target: QBit,\n",
        "    theta: CReal\n",
        ") -> None:\n",
        "    \"\"\"Apply N-block pattern for symmetry-preserving ansatz.\"\"\"\n",
        "    RZ(np.pi / 2, target)\n",
        "    CX(target, control)\n",
        "    RZ(2 * theta - np.pi / 2, control)\n",
        "    RY(np.pi / 2 - 2 * theta, target)\n",
        "    CX(control, target)\n",
        "    RY(2 * theta - np.pi / 2, target)\n",
        "    CX(target, control)\n",
        "    RZ(-np.pi / 2, control)"
      ]
    },
    {
      "cell_type": "code",
      "execution_count": 10,
      "metadata": {
        "id": "Gjy3IZ5z3AtC"
      },
      "outputs": [],
      "source": [
        "@qfunc\n",
        "def apply_symmetry_preserving_ansatz(\n",
        "    qubits: QArray,\n",
        "    parameters: CArray[CReal],\n",
        ") -> None:\n",
        "    \"\"\"Apply symmetry-preserving ansatz with optional phase gates.\"\"\"\n",
        "    param_idx = 0\n",
        "    num_qubits = CONFIG['NUM_QUBITS']\n",
        "\n",
        "    # Apply N-blocks in alternating pattern\n",
        "    for i in range(0, num_qubits, 2):\n",
        "        apply_n_block(qubits[i], qubits[i+1], parameters[param_idx])\n",
        "        param_idx += 1\n",
        "\n",
        "    for i in range(1, num_qubits - 1, 2):\n",
        "        apply_n_block(qubits[i], qubits[i+1], parameters[param_idx])\n",
        "        param_idx += 1\n",
        "    # Optional phase gates\n",
        "    if CONFIG['ANSATZ_TYPE'] is AnsatzType.SYMMETRY_PRESERVING_PHASE:\n",
        "        for i in range(num_qubits):\n",
        "            PHASE(parameters[num_qubits+i-1], qubits[i])"
      ]
    },
    {
      "cell_type": "markdown",
      "metadata": {
        "id": "1Hv_867Dj54F"
      },
      "source": [
        "### **Initial State Preparation**\n",
        "\n",
        "In VQE, the choice of the initial quantum state is essential for efficient convergence. Here, we prepare the initial state depending on the ansatz chosen."
      ]
    },
    {
      "cell_type": "code",
      "execution_count": 11,
      "metadata": {
        "id": "MidvOUOR3BwE"
      },
      "outputs": [],
      "source": [
        "@qfunc\n",
        "def prepare_initial_state(\n",
        "    qubits: QArray,\n",
        ") -> None:\n",
        "    \"\"\"Prepare the initial state based on ansatz type.\"\"\"\n",
        "    num_qubits = CONFIG['NUM_QUBITS']\n",
        "\n",
        "    if CONFIG['ANSATZ_TYPE'] in [AnsatzType.HARDWARE_EFFICIENT, AnsatzType.SYMMETRY_PRESERVING_PHASE]:\n",
        "        for i in range(num_qubits):\n",
        "            if i % 2 != 0:\n",
        "                X(qubits[i])\n",
        "    elif CONFIG['ANSATZ_TYPE'] == AnsatzType.SYMMETRY_PRESERVING:\n",
        "        for i in range(num_qubits):\n",
        "            X(qubits[i])\n",
        "        for i in range(0, num_qubits, 2):\n",
        "            hadamard_transform(qubits[i])\n",
        "            CX(qubits[i], qubits[i + 1])"
      ]
    },
    {
      "cell_type": "code",
      "execution_count": 12,
      "metadata": {
        "id": "A2Etunj7fgO2"
      },
      "outputs": [],
      "source": [
        "def configure_ansatz_parameters(ansatz_type: AnsatzType) -> None:\n",
        "    \"\"\"\n",
        "    Configure quantum circuit parameters based on the selected ansatz type.\n",
        "\n",
        "    Args:\n",
        "        ansatz_type: The type of ansatz to configure (HARDWARE_EFFICIENT,\n",
        "                    SYMMETRY_PRESERVING_PHASE, or SYMMETRY_PRESERVING)\n",
        "    \"\"\"\n",
        "    global k, LENGTH, INITIAL_STATE, MAX_ITERATIONS, TOLERANCE\n",
        "    global HAMILTONIAN, STEP_SIZE, SKIP_COMPUTE_VARIANCE, ALPHA_CVAR\n",
        "\n",
        "    # Update configuration\n",
        "    CONFIG['ANSATZ_TYPE'] = ansatz_type\n",
        "\n",
        "    # Define number of parameters based on ansatz type\n",
        "    k = {\n",
        "        AnsatzType.HARDWARE_EFFICIENT: CONFIG['NUM_QUBITS'] * 2,\n",
        "        AnsatzType.SYMMETRY_PRESERVING_PHASE: 2 * CONFIG['NUM_QUBITS'] - 1,\n",
        "        AnsatzType.SYMMETRY_PRESERVING: CONFIG['NUM_QUBITS'] - 1\n",
        "    }[ansatz_type]\n",
        "\n",
        "    LENGTH = k * CONFIG['NUM_LAYERS']\n",
        "\n",
        "    # Initialize quantum constants  \n",
        "    INITIAL_STATE = QConstant(\n",
        "        \"INITIAL_STATE\",\n",
        "        List[float],\n",
        "        list(np.random.rand(LENGTH) - .5)\n",
        "    )\n",
        "      \n",
        "    HAMILTONIAN = generate_heisenberg_hamiltonian(\n",
        "        CONFIG['NUM_QUBITS'], \n",
        "        CONFIG['COUPLING_STRENGTH']\n",
        "    )\n",
        "\n",
        "    MAX_ITERATIONS = QConstant(\n",
        "        \"MAX_ITERATIONS\",\n",
        "        int,\n",
        "        CONFIG['MAX_ITERATIONS']\n",
        "    )\n",
        "\n",
        "    TOLERANCE = QConstant(\n",
        "        \"TOLERANCE\",\n",
        "        float,\n",
        "        CONFIG['TOLERANCE']\n",
        "    )\n",
        "\n",
        "    STEP_SIZE = QConstant(\n",
        "        \"STEP_SIZE\",\n",
        "        float,\n",
        "        CONFIG['STEP_SIZE']\n",
        "    )\n",
        "\n",
        "    SKIP_COMPUTE_VARIANCE = QConstant(\n",
        "        \"SKIP_COMPUTE_VARIANCE\",\n",
        "        bool,\n",
        "        CONFIG['SKIP_COMPUTE_VARIANCE']\n",
        "    )\n",
        "\n",
        "    ALPHA_CVAR = QConstant(\n",
        "        \"ALPHA_CVAR\",\n",
        "        float,\n",
        "        CONFIG['ALPHA_CVAR']\n",
        "    )"
      ]
    },
    {
      "cell_type": "markdown",
      "metadata": {
        "id": "A0NkLbJDkHSD"
      },
      "source": [
        "### **VQE Optimization Workflow**\n",
        "\n",
        "We now optimize the parameters of the ansatz to minimize the energy expectation of the Hamiltonian. The optimization is performed using the **L-BFGS** classical optimizer."
      ]
    },
    {
      "cell_type": "code",
      "execution_count": 13,
      "metadata": {
        "id": "hbePCq5M3HRz"
      },
      "outputs": [],
      "source": [
        "@cfunc\n",
        "def optimize_vqe() -> None:\n",
        "    \"\"\"Run VQE optimization.\"\"\"\n",
        "    result = vqe(\n",
        "        hamiltonian=HAMILTONIAN,\n",
        "        maximize=False,\n",
        "        initial_point=INITIAL_STATE,\n",
        "        optimizer=Optimizer.ADAM,\n",
        "        max_iteration=MAX_ITERATIONS,\n",
        "        tolerance=TOLERANCE,\n",
        "        step_size=STEP_SIZE,\n",
        "        skip_compute_variance=SKIP_COMPUTE_VARIANCE,\n",
        "        alpha_cvar=ALPHA_CVAR\n",
        "    )\n",
        "    save({\"result\": result})"
      ]
    },
    {
      "cell_type": "code",
      "execution_count": 14,
      "metadata": {
        "id": "wG-K523L3KYU"
      },
      "outputs": [],
      "source": [
        "def run_vqe(ansatz_type: AnsatzType) -> None:\n",
        "    \"\"\"\n",
        "    Execute the Variational Quantum Eigensolver (VQE) algorithm.\n",
        "\n",
        "    Prepares quantum circuit based on specified ansatz type, optimizes parameters\n",
        "    to find ground state energy of target Hamiltonian, and returns minimal energy.\n",
        "\n",
        "    Args:\n",
        "        ansatz_type: Type of ansatz circuit to use (hardware efficient or symmetry preserving)\n",
        "    \"\"\"\n",
        "    configure_ansatz_parameters(ansatz_type)\n",
        "    start_time = time.time()\n",
        "\n",
        "    @qfunc\n",
        "    def main(q: Output[QArray], p: CArray[CReal, LENGTH]) -> None:\n",
        "        num_qubits = CONFIG['NUM_QUBITS']\n",
        "        num_layers = CONFIG['NUM_LAYERS']\n",
        "\n",
        "        allocate(num_qubits, q)\n",
        "        prepare_initial_state(q)\n",
        "\n",
        "        for i in range(num_layers):\n",
        "            params = p[i * k:(i + 1) * k]\n",
        "            if ansatz_type == AnsatzType.HARDWARE_EFFICIENT:\n",
        "                apply_hardware_efficient_ansatz(q, params)\n",
        "            else:\n",
        "                apply_symmetry_preserving_ansatz(q, params)\n",
        "\n",
        "    qmod = create_model(main, classical_execution_function=optimize_vqe)\n",
        "    prefs = set_execution_preferences(\n",
        "        qmod,\n",
        "        execution.ExecutionPreferences(\n",
        "            num_shots=CONFIG['NUM_SHOTS'],\n",
        "            job_name=f\"vqe_{ansatz_type.value}_{CONFIG}\"\n",
        "        ),\n",
        "    )\n",
        "\n",
        "    os.makedirs(CONFIG['RESULTS_DIR']+f\"_{ansatz_type.value}\", exist_ok=True)\n",
        "    file_name = f\"{CONFIG['RESULTS_DIR']}_{ansatz_type.value}/vqe_{ansatz_type.value}_{CONFIG['NUM_QUBITS']}_{CONFIG['NUM_LAYERS']}\"\n",
        "    \n",
        "    qprog = synthesize(prefs) \n",
        "    parse(QuantumProgram.from_qprog(qprog).qasm).decompose().draw('mpl').savefig(f\"{file_name}_circ.jpg\")  \n",
        "    \n",
        "    with open(f\"{file_name}.qprog\", 'w') as text:\n",
        "        text.write(qprog)\n",
        "\n",
        "    print(\"🚀 OPTIMIZATION INITIATED 🚀\")\n",
        "\n",
        "    result = execute(qprog).result()[0]   \n",
        "    energy = result.value.energy\n",
        "    print(f\"✨ MINIMAL ENERGY OF HAMILTONIAN: {energy} ✨\")\n",
        "\n",
        "    elapsed_time = time.time() - start_time\n",
        "    print(\"🔚 OPTIMIZATION COMPLETE 🔚\")\n",
        "    print(f\"⏳ TIME TAKEN: {elapsed_time:.2f} seconds ⏳\")\n",
        "   \n",
        "    result.value.convergence_graph.save(f\"{file_name}.jpg\")   \n",
        "    with open(f\"{file_name}.json\", 'w') as json_file:\n",
        "        json_file.write(result.model_dump_json(indent=4))\n",
        "    \n",
        "    Image.open(f\"{file_name}.jpg\")"
      ]
    },
    {
      "cell_type": "code",
      "execution_count": 15,
      "metadata": {},
      "outputs": [],
      "source": [
        "# Configuration constants\n",
        "CONFIG = {\n",
        "    \n",
        "    'NUM_QUBITS': 4,                # Number of qubits used\n",
        "    'COUPLING_STRENGTH': 1,         # Strength of interaction between spins\n",
        "    'NUM_LAYERS': 5,                # Number of layers in the ansatz\n",
        "    'NUM_SHOTS': 8192,              # Number of measurement shots\n",
        "    'MAX_ITERATIONS': 10000,        # Maximum number of iterations\n",
        "    'TOLERANCE': 1e-10,             # Tolerance for the optimizer\n",
        "    'STEP_SIZE': 20,                # Step size for the optimizer\n",
        "    'SKIP_COMPUTE_VARIANCE': False, # Skip variance computation\n",
        "    'ALPHA_CVAR': 1.0               # Alpha value for CVaR optimization    \n",
        "}\n",
        "\n",
        "CONFIG['RESULTS_DIR'] = f'''RESULTS/{CONFIG['NUM_QUBITS']}_{CONFIG['NUM_LAYERS']}'''"
      ]
    },
    {
      "cell_type": "code",
      "execution_count": null,
      "metadata": {
        "colab": {
          "base_uri": "https://localhost:8080/"
        },
        "id": "1H5p60PufJ_b",
        "outputId": "2cd9ad8f-03c6-4286-9a7f-178a370d1f66"
      },
      "outputs": [
        {
          "name": "stdout",
          "output_type": "stream",
          "text": [
            "🚀 OPTIMIZATION INITIATED 🚀\n"
          ]
        }
      ],
      "source": [
        "# Select Ansatz type from configuration and Run the VQE algorithm\n",
        "run_vqe(AnsatzType.HARDWARE_EFFICIENT)"
      ]
    },
    {
      "cell_type": "code",
      "execution_count": null,
      "metadata": {
        "colab": {
          "base_uri": "https://localhost:8080/"
        },
        "id": "RVEQ4E84Dx68",
        "outputId": "f914d742-4879-4fd4-dfd6-e1220cb81938"
      },
      "outputs": [],
      "source": [
        "# Select Ansatz type from configuration and Run the VQE algorithm\n",
        "run_vqe(AnsatzType.SYMMETRY_PRESERVING_PHASE)"
      ]
    },
    {
      "cell_type": "code",
      "execution_count": null,
      "metadata": {
        "colab": {
          "base_uri": "https://localhost:8080/"
        },
        "id": "Uy-fDVcjgDaj",
        "outputId": "ef59437b-5a27-4c68-8ee9-ae45e9682957"
      },
      "outputs": [],
      "source": [
        "# Select Ansatz type from configuration and Run the VQE algorithm\n",
        "run_vqe(AnsatzType.SYMMETRY_PRESERVING)"
      ]
    },
    {
      "cell_type": "code",
      "execution_count": null,
      "metadata": {},
      "outputs": [],
      "source": [
        "print(f\"✨ MINIMAL ENERGY OF HAMILTONIAN COMPUTED CLASSICALLY: {classical_estimation(CONFIG['NUM_QUBITS'], CONFIG['COUPLING_STRENGTH']):.4f} ✨\")"
      ]
    },
    {
      "cell_type": "code",
      "execution_count": 20,
      "metadata": {},
      "outputs": [],
      "source": [
        "# Configuration constants\n",
        "CONFIG = {\n",
        "    'NUM_QUBITS': 4,                # Number of qubits used\n",
        "    'COUPLING_STRENGTH': 1,         # Strength of interaction between spins\n",
        "    'NUM_LAYERS': 15,               # Number of layers in the ansatz\n",
        "    'NUM_SHOTS': 8192,              # Number of measurement shots\n",
        "    'MAX_ITERATIONS': 10000,        # Maximum number of iterations\n",
        "    'TOLERANCE': 1e-10,             # Tolerance for the optimizer\n",
        "    'STEP_SIZE': 20,                # Step size for the optimizer\n",
        "    'SKIP_COMPUTE_VARIANCE': False, # Skip variance computation\n",
        "    'ALPHA_CVAR': 1.0               # Alpha value for CVaR optimization\n",
        "}\n",
        "\n",
        "CONFIG['RESULTS_DIR'] = f'''RESULTS/{CONFIG['NUM_QUBITS']}_{CONFIG['NUM_LAYERS']}'''"
      ]
    },
    {
      "cell_type": "code",
      "execution_count": null,
      "metadata": {},
      "outputs": [],
      "source": [
        "# Select Ansatz type from configuration and Run the VQE algorithm\n",
        "run_vqe(AnsatzType.HARDWARE_EFFICIENT)"
      ]
    },
    {
      "cell_type": "code",
      "execution_count": null,
      "metadata": {},
      "outputs": [],
      "source": [
        "# Select Ansatz type from configuration and Run the VQE algorithm\n",
        "run_vqe(AnsatzType.SYMMETRY_PRESERVING_PHASE)"
      ]
    },
    {
      "cell_type": "code",
      "execution_count": null,
      "metadata": {},
      "outputs": [],
      "source": [
        "# Select Ansatz type from configuration and Run the VQE algorithm\n",
        "run_vqe(AnsatzType.SYMMETRY_PRESERVING)"
      ]
    },
    {
      "cell_type": "code",
      "execution_count": null,
      "metadata": {},
      "outputs": [],
      "source": [
        "print(f\"✨ MINIMAL ENERGY OF HAMILTONIAN COMPUTED CLASSICALLY: {classical_estimation(CONFIG['NUM_QUBITS'], CONFIG['COUPLING_STRENGTH']):.4f} ✨\")"
      ]
    },
    {
      "cell_type": "markdown",
      "metadata": {
        "id": "yjpUDzAM3Uzs"
      },
      "source": [
        "## Results and Conclusion\n",
        "\n",
        "We have successfully implemented the Variational Quantum Eigensolver (VQE) for the Heisenberg model using both hardware-efficient and symmetry-preserving ansätze. The VQE algorithm was able to find the minimal energy of the Hamiltonian, demonstrating the effectiveness of symmetry exploitation in improving the efficiency and accuracy of quantum simulations.\n",
        "\n",
        "Further extensions of this notebook could include experimenting with different numbers of qubits, analyzing excited state preparation, or applying the method to different Hamiltonians."
      ]
    }
  ],
  "metadata": {
    "colab": {
      "provenance": []
    },
    "kernelspec": {
      "display_name": "qclass",
      "language": "python",
      "name": "python3"
    },
    "language_info": {
      "codemirror_mode": {
        "name": "ipython",
        "version": 3
      },
      "file_extension": ".py",
      "mimetype": "text/x-python",
      "name": "python",
      "nbconvert_exporter": "python",
      "pygments_lexer": "ipython3",
      "version": "3.10.12"
    }
  },
  "nbformat": 4,
  "nbformat_minor": 0
}
